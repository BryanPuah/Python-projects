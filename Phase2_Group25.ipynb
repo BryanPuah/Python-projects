{
 "cells": [
  {
   "cell_type": "markdown",
   "metadata": {},
   "source": [
    "# Predicting if patients have diabetes"
   ]
  },
  {
   "cell_type": "markdown",
   "metadata": {},
   "source": [
    "**Group No.25**\n",
    "\n",
    "**By Bryan Zai Zheng Puah** (**S3783001**)"
   ]
  },
  {
   "cell_type": "markdown",
   "metadata": {},
   "source": [
    "# Table of Contents"
   ]
  },
  {
   "cell_type": "markdown",
   "metadata": {},
   "source": [
    "- [Introduction](#Introduction)\n",
    "\n",
    "    - [Phase 1 Summary](#Phase-1-Summary)\n",
    "    - [Report Overview](#Report-Overview)\n",
    "    - [Overview of Methodology](#Overview-of-Methodology)\n",
    "   \n",
    "- [Data Preparation](#Data-Preparation)\n",
    "- [Predictive Modelling](#Predictive-Modelling)\n",
    "    - [Feature Selection](#Feature-Selection)\n",
    "    - [Model Fitting & Tuning](#Model-Fitting-&-Tuning)\n",
    "    - [Model Comparison](#Model-Comparison)\n",
    "    \n",
    "- [Critque & Limitations](#Critque-&-Limitations)\n",
    "- [Summary & Conclusions](#Summary-&-Conclusions)\n",
    "    - [Project Summary](#Project-Summary)\n",
    "    - [Summary of Findings](#Summary-of-Findings)\n",
    "    - [Conclusions](#Conclusions)\n",
    "- [References](#References)\n",
    "\n"
   ]
  },
  {
   "cell_type": "markdown",
   "metadata": {},
   "source": [
    "# Introduction"
   ]
  },
  {
   "cell_type": "markdown",
   "metadata": {},
   "source": [
    "### Phase 1 Summary\n",
    "In phase 1 of the project before any predictive modelling we performed data preprocessing and data exploration of the diabetes dataset. During data preprocessing we check for unsual and missing values which there were none, identified outliers in the numerical features which we understood were important to keep as they provided valuable information in terms of identifying potential correlations or relationships between the features. Moreover, we discretize the 'age' and 'pregnancies' variable which contains several unique numerical values and placed them in groups for easier visualsation and understanding of the variables. On the other hand, we also performed data visualisation on several features to gain a better understanding of them. As such the data exploration includes univaratie, bivariate and multivariate visualisation. Through these explorations we were able to gain a better understanding of the influences of each features on each other and which will ultimately be used in the predictive models to help predict if patients will have diabetes. Moreover, by ensuring that the datasets are clean before building the predictive model, we ensure unwanted and irrelevant observations are not included in the data before bulding the models, thus ensuring the results obtained are accurate."
   ]
  },
  {
   "cell_type": "markdown",
   "metadata": {},
   "source": [
    "### Report Overview"
   ]
  },
  {
   "cell_type": "markdown",
   "metadata": {},
   "source": [
    "In phase 2 of the project as the data was mostly cleaned as observed in phase 1, the required data preparation step for the diabetes dataset before performing any predictive modelling includes scaling the descriptive features using the Min-Max scaler. We then split the dataset into training and test sets with a 70:30 ratio. Moreover we do not sample the dataset considering the total number of observations is 768 observations which would not significantly affect the computation and run time. \n",
    "\n",
    "In the predictive modelling stage, we considered the KNN, Decision Tree and Random Forest classifier, from which were used to help predict patients with diabetes. As such before fitting the classifiers on the test data, we perform feature selection and fine-tune the hyperparameters for each of the 3 classifiers. Moreover from using grid search to help obtain the optimal hyperparameters for each model, the search also examine sensitivity of each model with respect to its hyperparameter. \n",
    "\n",
    "Afterthat, using the best tuned classifiers and fitting them on the test data using 10-fold cross validation, the paired t-test was used to help identify the statistically best performing algorithm. Moreover, comparing the classifiers with respect to their recall scores and confusion matrices on the test data. \n",
    "\n",
    "Finally, we outline strength and weaknesses in our study and provided a summary of the overall study including the data preparation and visualisation phase done previously on the diabetes dataset and provided the conclusion as to how this study helped achieve the goals and objectives of the overall project. "
   ]
  },
  {
   "cell_type": "markdown",
   "metadata": {},
   "source": [
    "### Overview of Methodology"
   ]
  },
  {
   "cell_type": "markdown",
   "metadata": {},
   "source": [
    "In the predictive modelling stage, we consider 3 classifiers to predict the target feature (diabetes/no diabetes). They are K-Nearest Neighbors, Decision Tree and Random Forest.\n",
    "After performing transformation on the already clean dataset, which includes scaling the descriptive features using the Min Max scaler, we move on to the predictive modelling phase. \n",
    "\n",
    "Before we fit the model on the training data, we first looked at the 6 most important features selected by the Random Forest Importance. Moreover we included RFI in a pipeline to determine the number of features which worked best for each of three classifier: KNN, decision tree and random forest. As such we considered 5,7 and the full set of 8 features. We also performed a 2-repeated 5-fold-cross-validation to fine tune the hyperparameters of each of the 3 classifiers, using RFI feature selection and parameter search inside a pipeline. Moreover, given the presence of class imblance where there are significantly more non-diabetic patients compared to patients with diabetes discovered during exploratory analysis, we used the ROC area under the curve as the performance metric. Additionally, we utilise Grid search to obtain the optimal hyperparameters for each model.\n",
    "\n",
    "Finally, from obtaining the classifiers which are best tuned, we then fit them on the test data utilising the 10-fold cross validation, and performed a paired t-tests to observe if any performance difference is statistically significant. Moreover, using the recall scores and confusion matrices on the test data to compare the 3 different classifiers.\n"
   ]
  },
  {
   "cell_type": "markdown",
   "metadata": {},
   "source": [
    "# Data Preparation"
   ]
  },
  {
   "cell_type": "markdown",
   "metadata": {},
   "source": [
    "As data preparation was performed in phase 1, it was understood that there were no missing or unsual values obtained. Moreover there were no columns such as ID to handle, thus we do not have to handle any of these issues and will proceed with the following necessary steps for building the predictive models. As such before building any predictive models we also partition the dataset into a set of descriptive features and the target feature as well as scale all the descriptive features to be between 0 and 1 which was not performed during the first phase of the project. "
   ]
  },
  {
   "cell_type": "code",
   "execution_count": 1,
   "metadata": {},
   "outputs": [],
   "source": [
    "import warnings\n",
    "warnings.filterwarnings('ignore')"
   ]
  },
  {
   "cell_type": "code",
   "execution_count": 2,
   "metadata": {},
   "outputs": [],
   "source": [
    "#Import necessary packages\n",
    "import pandas as pd\n",
    "import numpy as np\n",
    "import matplotlib.pyplot as plt\n",
    "import seaborn as sns"
   ]
  },
  {
   "cell_type": "code",
   "execution_count": 3,
   "metadata": {},
   "outputs": [],
   "source": [
    "pd.set_option('display.max_columns', None) "
   ]
  },
  {
   "cell_type": "code",
   "execution_count": 4,
   "metadata": {},
   "outputs": [],
   "source": [
    "#Load dataset from a csv file\n",
    "diabetes = pd.read_csv(\"diabetes.csv\")"
   ]
  },
  {
   "cell_type": "code",
   "execution_count": 5,
   "metadata": {},
   "outputs": [
    {
     "data": {
      "text/html": [
       "<div>\n",
       "<style scoped>\n",
       "    .dataframe tbody tr th:only-of-type {\n",
       "        vertical-align: middle;\n",
       "    }\n",
       "\n",
       "    .dataframe tbody tr th {\n",
       "        vertical-align: top;\n",
       "    }\n",
       "\n",
       "    .dataframe thead th {\n",
       "        text-align: right;\n",
       "    }\n",
       "</style>\n",
       "<table border=\"1\" class=\"dataframe\">\n",
       "  <thead>\n",
       "    <tr style=\"text-align: right;\">\n",
       "      <th></th>\n",
       "      <th>Pregnancies</th>\n",
       "      <th>Glucose</th>\n",
       "      <th>BloodPressure</th>\n",
       "      <th>SkinThickness</th>\n",
       "      <th>Insulin</th>\n",
       "      <th>BMI</th>\n",
       "      <th>DiabetesPedigreeFunction</th>\n",
       "      <th>Age</th>\n",
       "      <th>Outcome</th>\n",
       "    </tr>\n",
       "  </thead>\n",
       "  <tbody>\n",
       "    <tr>\n",
       "      <th>0</th>\n",
       "      <td>6</td>\n",
       "      <td>148</td>\n",
       "      <td>72</td>\n",
       "      <td>35</td>\n",
       "      <td>0</td>\n",
       "      <td>33.6</td>\n",
       "      <td>0.627</td>\n",
       "      <td>50</td>\n",
       "      <td>1</td>\n",
       "    </tr>\n",
       "    <tr>\n",
       "      <th>1</th>\n",
       "      <td>1</td>\n",
       "      <td>85</td>\n",
       "      <td>66</td>\n",
       "      <td>29</td>\n",
       "      <td>0</td>\n",
       "      <td>26.6</td>\n",
       "      <td>0.351</td>\n",
       "      <td>31</td>\n",
       "      <td>0</td>\n",
       "    </tr>\n",
       "    <tr>\n",
       "      <th>2</th>\n",
       "      <td>8</td>\n",
       "      <td>183</td>\n",
       "      <td>64</td>\n",
       "      <td>0</td>\n",
       "      <td>0</td>\n",
       "      <td>23.3</td>\n",
       "      <td>0.672</td>\n",
       "      <td>32</td>\n",
       "      <td>1</td>\n",
       "    </tr>\n",
       "    <tr>\n",
       "      <th>3</th>\n",
       "      <td>1</td>\n",
       "      <td>89</td>\n",
       "      <td>66</td>\n",
       "      <td>23</td>\n",
       "      <td>94</td>\n",
       "      <td>28.1</td>\n",
       "      <td>0.167</td>\n",
       "      <td>21</td>\n",
       "      <td>0</td>\n",
       "    </tr>\n",
       "    <tr>\n",
       "      <th>4</th>\n",
       "      <td>0</td>\n",
       "      <td>137</td>\n",
       "      <td>40</td>\n",
       "      <td>35</td>\n",
       "      <td>168</td>\n",
       "      <td>43.1</td>\n",
       "      <td>2.288</td>\n",
       "      <td>33</td>\n",
       "      <td>1</td>\n",
       "    </tr>\n",
       "  </tbody>\n",
       "</table>\n",
       "</div>"
      ],
      "text/plain": [
       "   Pregnancies  Glucose  BloodPressure  SkinThickness  Insulin   BMI  \\\n",
       "0            6      148             72             35        0  33.6   \n",
       "1            1       85             66             29        0  26.6   \n",
       "2            8      183             64              0        0  23.3   \n",
       "3            1       89             66             23       94  28.1   \n",
       "4            0      137             40             35      168  43.1   \n",
       "\n",
       "   DiabetesPedigreeFunction  Age  Outcome  \n",
       "0                     0.627   50        1  \n",
       "1                     0.351   31        0  \n",
       "2                     0.672   32        1  \n",
       "3                     0.167   21        0  \n",
       "4                     2.288   33        1  "
      ]
     },
     "execution_count": 5,
     "metadata": {},
     "output_type": "execute_result"
    }
   ],
   "source": [
    "#Observe first 5 rows of dataset\n",
    "diabetes.head()"
   ]
  },
  {
   "cell_type": "markdown",
   "metadata": {},
   "source": [
    "### Partition  dataset into set of descriptive features and the target feature"
   ]
  },
  {
   "cell_type": "code",
   "execution_count": 6,
   "metadata": {},
   "outputs": [],
   "source": [
    "#Split diabetes dataset in to descriptive features-data and target feature-target\n",
    "Data = diabetes.iloc[:, :-1]\n",
    "target = diabetes.iloc[:, -1]"
   ]
  },
  {
   "cell_type": "markdown",
   "metadata": {},
   "source": [
    "### Scaling of Features"
   ]
  },
  {
   "cell_type": "code",
   "execution_count": 7,
   "metadata": {},
   "outputs": [],
   "source": [
    "#Perform MinMaxScaler on descriptive numerical features\n",
    "from sklearn import preprocessing\n",
    "Data_cols = Data.columns\n",
    "Data = pd.DataFrame(preprocessing.MinMaxScaler().fit_transform(Data), columns = Data_cols).round(3)"
   ]
  },
  {
   "cell_type": "code",
   "execution_count": 8,
   "metadata": {},
   "outputs": [
    {
     "data": {
      "text/html": [
       "<div>\n",
       "<style scoped>\n",
       "    .dataframe tbody tr th:only-of-type {\n",
       "        vertical-align: middle;\n",
       "    }\n",
       "\n",
       "    .dataframe tbody tr th {\n",
       "        vertical-align: top;\n",
       "    }\n",
       "\n",
       "    .dataframe thead th {\n",
       "        text-align: right;\n",
       "    }\n",
       "</style>\n",
       "<table border=\"1\" class=\"dataframe\">\n",
       "  <thead>\n",
       "    <tr style=\"text-align: right;\">\n",
       "      <th></th>\n",
       "      <th>Pregnancies</th>\n",
       "      <th>Glucose</th>\n",
       "      <th>BloodPressure</th>\n",
       "      <th>SkinThickness</th>\n",
       "      <th>Insulin</th>\n",
       "      <th>BMI</th>\n",
       "      <th>DiabetesPedigreeFunction</th>\n",
       "      <th>Age</th>\n",
       "    </tr>\n",
       "  </thead>\n",
       "  <tbody>\n",
       "    <tr>\n",
       "      <th>0</th>\n",
       "      <td>0.353</td>\n",
       "      <td>0.744</td>\n",
       "      <td>0.590</td>\n",
       "      <td>0.354</td>\n",
       "      <td>0.000</td>\n",
       "      <td>0.501</td>\n",
       "      <td>0.234</td>\n",
       "      <td>0.483</td>\n",
       "    </tr>\n",
       "    <tr>\n",
       "      <th>1</th>\n",
       "      <td>0.059</td>\n",
       "      <td>0.427</td>\n",
       "      <td>0.541</td>\n",
       "      <td>0.293</td>\n",
       "      <td>0.000</td>\n",
       "      <td>0.396</td>\n",
       "      <td>0.117</td>\n",
       "      <td>0.167</td>\n",
       "    </tr>\n",
       "    <tr>\n",
       "      <th>2</th>\n",
       "      <td>0.471</td>\n",
       "      <td>0.920</td>\n",
       "      <td>0.525</td>\n",
       "      <td>0.000</td>\n",
       "      <td>0.000</td>\n",
       "      <td>0.347</td>\n",
       "      <td>0.254</td>\n",
       "      <td>0.183</td>\n",
       "    </tr>\n",
       "    <tr>\n",
       "      <th>3</th>\n",
       "      <td>0.059</td>\n",
       "      <td>0.447</td>\n",
       "      <td>0.541</td>\n",
       "      <td>0.232</td>\n",
       "      <td>0.111</td>\n",
       "      <td>0.419</td>\n",
       "      <td>0.038</td>\n",
       "      <td>0.000</td>\n",
       "    </tr>\n",
       "    <tr>\n",
       "      <th>4</th>\n",
       "      <td>0.000</td>\n",
       "      <td>0.688</td>\n",
       "      <td>0.328</td>\n",
       "      <td>0.354</td>\n",
       "      <td>0.199</td>\n",
       "      <td>0.642</td>\n",
       "      <td>0.944</td>\n",
       "      <td>0.200</td>\n",
       "    </tr>\n",
       "  </tbody>\n",
       "</table>\n",
       "</div>"
      ],
      "text/plain": [
       "   Pregnancies  Glucose  BloodPressure  SkinThickness  Insulin    BMI  \\\n",
       "0        0.353    0.744          0.590          0.354    0.000  0.501   \n",
       "1        0.059    0.427          0.541          0.293    0.000  0.396   \n",
       "2        0.471    0.920          0.525          0.000    0.000  0.347   \n",
       "3        0.059    0.447          0.541          0.232    0.111  0.419   \n",
       "4        0.000    0.688          0.328          0.354    0.199  0.642   \n",
       "\n",
       "   DiabetesPedigreeFunction    Age  \n",
       "0                     0.234  0.483  \n",
       "1                     0.117  0.167  \n",
       "2                     0.254  0.183  \n",
       "3                     0.038  0.000  \n",
       "4                     0.944  0.200  "
      ]
     },
     "execution_count": 8,
     "metadata": {},
     "output_type": "execute_result"
    }
   ],
   "source": [
    "Data.head()"
   ]
  },
  {
   "cell_type": "markdown",
   "metadata": {},
   "source": [
    "# Predictive Modelling"
   ]
  },
  {
   "cell_type": "markdown",
   "metadata": {},
   "source": [
    "### Feature Selection"
   ]
  },
  {
   "cell_type": "markdown",
   "metadata": {},
   "source": [
    "We will first look at the most important 6 features which are selected by the RandomForestClassifier (RFI) on the full dataset. Moreover, during hyperparameter tuning, we intend to utilzie RFI in a pipeline to determine which number of features is best with each classifier. "
   ]
  },
  {
   "cell_type": "code",
   "execution_count": 9,
   "metadata": {},
   "outputs": [
    {
     "data": {
      "text/plain": [
       "array(['Glucose', 'BMI', 'Age', 'DiabetesPedigreeFunction',\n",
       "       'BloodPressure', 'Pregnancies'], dtype=object)"
      ]
     },
     "execution_count": 9,
     "metadata": {},
     "output_type": "execute_result"
    }
   ],
   "source": [
    "from sklearn.ensemble import RandomForestClassifier\n",
    "num_features = 6\n",
    "model_rfi = RandomForestClassifier(n_estimators=100)\n",
    "model_rfi.fit(Data, target)\n",
    "fs_indices_rfi = np.argsort(model_rfi.feature_importances_)[::-1][0:num_features]\n",
    "best_features_rfi = Data.columns[fs_indices_rfi].values\n",
    "best_features_rfi"
   ]
  },
  {
   "cell_type": "code",
   "execution_count": 10,
   "metadata": {},
   "outputs": [
    {
     "data": {
      "text/plain": [
       "array([0.26628084, 0.16302065, 0.13389166, 0.11884483, 0.08989281,\n",
       "       0.0849784 ])"
      ]
     },
     "execution_count": 10,
     "metadata": {},
     "output_type": "execute_result"
    }
   ],
   "source": [
    "feature_importances_rfi = model_rfi.feature_importances_[fs_indices_rfi]\n",
    "feature_importances_rfi"
   ]
  },
  {
   "cell_type": "markdown",
   "metadata": {},
   "source": [
    "### Visualise these importances"
   ]
  },
  {
   "cell_type": "code",
   "execution_count": 11,
   "metadata": {},
   "outputs": [
    {
     "data": {
      "text/html": [
       "<div>\n",
       "<style scoped>\n",
       "    .dataframe tbody tr th:only-of-type {\n",
       "        vertical-align: middle;\n",
       "    }\n",
       "\n",
       "    .dataframe tbody tr th {\n",
       "        vertical-align: top;\n",
       "    }\n",
       "\n",
       "    .dataframe thead th {\n",
       "        text-align: right;\n",
       "    }\n",
       "</style>\n",
       "<table border=\"1\" class=\"dataframe\">\n",
       "  <thead>\n",
       "    <tr style=\"text-align: right;\">\n",
       "      <th></th>\n",
       "      <th>features</th>\n",
       "      <th>importances</th>\n",
       "    </tr>\n",
       "  </thead>\n",
       "  <tbody>\n",
       "    <tr>\n",
       "      <th>0</th>\n",
       "      <td>Glucose</td>\n",
       "      <td>0.266281</td>\n",
       "    </tr>\n",
       "    <tr>\n",
       "      <th>1</th>\n",
       "      <td>BMI</td>\n",
       "      <td>0.163021</td>\n",
       "    </tr>\n",
       "    <tr>\n",
       "      <th>2</th>\n",
       "      <td>Age</td>\n",
       "      <td>0.133892</td>\n",
       "    </tr>\n",
       "    <tr>\n",
       "      <th>3</th>\n",
       "      <td>DiabetesPedigreeFunction</td>\n",
       "      <td>0.118845</td>\n",
       "    </tr>\n",
       "    <tr>\n",
       "      <th>4</th>\n",
       "      <td>BloodPressure</td>\n",
       "      <td>0.089893</td>\n",
       "    </tr>\n",
       "    <tr>\n",
       "      <th>5</th>\n",
       "      <td>Pregnancies</td>\n",
       "      <td>0.084978</td>\n",
       "    </tr>\n",
       "  </tbody>\n",
       "</table>\n",
       "</div>"
      ],
      "text/plain": [
       "                   features  importances\n",
       "0                   Glucose     0.266281\n",
       "1                       BMI     0.163021\n",
       "2                       Age     0.133892\n",
       "3  DiabetesPedigreeFunction     0.118845\n",
       "4             BloodPressure     0.089893\n",
       "5               Pregnancies     0.084978"
      ]
     },
     "execution_count": 11,
     "metadata": {},
     "output_type": "execute_result"
    }
   ],
   "source": [
    "df = pd.DataFrame({'features': best_features_rfi, 'importances': feature_importances_rfi})\n",
    "df"
   ]
  },
  {
   "cell_type": "code",
   "execution_count": 12,
   "metadata": {},
   "outputs": [
    {
     "data": {
      "image/png": "[encoded data removed]",
      "text/plain": [
       "<Figure size 432x288 with 1 Axes>"
      ]
     },
     "metadata": {
      "needs_background": "light"
     },
     "output_type": "display_data"
    }
   ],
   "source": [
    "plt.bar(best_features_rfi, feature_importances_rfi, color='blue')\n",
    "plt.xlabel('Feature')\n",
    "plt.xticks(rotation=45, ha='right')\n",
    "plt.ylabel('Importance')\n",
    "plt.title('Figure 1: Random Forest Feature Importance')\n",
    "plt.show()\n"
   ]
  },
  {
   "cell_type": "markdown",
   "metadata": {},
   "source": [
    "Based on figure 1, we observe the most important feature is Glucose and then BMI followed by Age, DiabetesPedigreeeFunction. "
   ]
  },
  {
   "cell_type": "markdown",
   "metadata": {},
   "source": [
    "# Model Fitting & Tuning"
   ]
  },
  {
   "cell_type": "code",
   "execution_count": 13,
   "metadata": {},
   "outputs": [],
   "source": [
    "#Use values method on Data and target variable to convert it to a Numpy array\n",
    "Data = Data.values\n",
    "target = target.values"
   ]
  },
  {
   "cell_type": "markdown",
   "metadata": {},
   "source": [
    "### Train Test splitting"
   ]
  },
  {
   "cell_type": "markdown",
   "metadata": {},
   "source": [
    "We split the dataset as 70% training set and 30% testing set using the stratified sampling on target and a random seed of 111."
   ]
  },
  {
   "cell_type": "code",
   "execution_count": 14,
   "metadata": {
    "code_folding": []
   },
   "outputs": [],
   "source": [
    "from sklearn.model_selection import train_test_split\n",
    "D_train, D_test, t_train, t_test = train_test_split(Data,target,test_size = 0.3,random_state = 111,\n",
    "                                                    stratify = target)\n"
   ]
  },
  {
   "cell_type": "code",
   "execution_count": 15,
   "metadata": {},
   "outputs": [
    {
     "name": "stdout",
     "output_type": "stream",
     "text": [
      "(537, 8)\n",
      "(231, 8)\n",
      "(537,)\n",
      "(231,)\n"
     ]
    }
   ],
   "source": [
    "#Print shape of train and test set\n",
    "print(D_train.shape)\n",
    "print(D_test.shape)\n",
    "print(t_train.shape)\n",
    "print(t_test.shape)"
   ]
  },
  {
   "cell_type": "markdown",
   "metadata": {},
   "source": [
    "### Model Evaluation Strategy"
   ]
  },
  {
   "cell_type": "code",
   "execution_count": 16,
   "metadata": {},
   "outputs": [],
   "source": [
    "from sklearn.model_selection import RepeatedStratifiedKFold, RandomizedSearchCV,GridSearchCV\n",
    "cv_method = RepeatedStratifiedKFold(n_splits=5,n_repeats=2,random_state=999)"
   ]
  },
  {
   "cell_type": "markdown",
   "metadata": {},
   "source": [
    "### KNN"
   ]
  },
  {
   "cell_type": "markdown",
   "metadata": {},
   "source": [
    "We utilise cross-validation to obtain the optimal KNN parameters using a 2-repeated 5 fold stratified cross-validation on the training set. Moreover as we understand through visualisation in phase 1 that there is a class imbalance, the roc_auc will be used as the performance metric. \n",
    "\n",
    "We will also use the pipeline and grid search to help determine the optimal K nearest neighbor parameters.\n",
    "The KNN hyperparameters are as follows:\n",
    "\n",
    "- number of neighbors(n_neighbors)\n",
    "- the distance metric p\n",
    "\n",
    "For feature selection, we use Random Forest Importance (RFI) with 100 estimators. We define the custom RFIFeatureSelector() class below to pass in RFI as a 'step' to the pipeline. "
   ]
  },
  {
   "cell_type": "code",
   "execution_count": 17,
   "metadata": {},
   "outputs": [],
   "source": [
    "from sklearn.base import BaseEstimator, TransformerMixin\n",
    "\n",
    "class RFIFeatureSelector(BaseEstimator, TransformerMixin):\n",
    "    \n",
    "    def __init__(self, n_features_=8):\n",
    "        self.n_features_ = n_features_\n",
    "        self.fs_indices_ = None\n",
    "\n",
    "    # override the fit function\n",
    "    def fit(self, X, y):\n",
    "        from sklearn.ensemble import RandomForestClassifier\n",
    "        from numpy import argsort\n",
    "        model_rfi = RandomForestClassifier(n_estimators=100)\n",
    "        model_rfi.fit(X, y)\n",
    "        self.fs_indices_ = argsort(model_rfi.feature_importances_)[::-1][0:self.n_features_] \n",
    "        return self \n",
    "    \n",
    "    # override the transform function\n",
    "    def transform(self, X, y=None):\n",
    "        return X[:, self.fs_indices_]"
   ]
  },
  {
   "cell_type": "code",
   "execution_count": 18,
   "metadata": {},
   "outputs": [],
   "source": [
    "from sklearn.pipeline import Pipeline\n",
    "from sklearn.neighbors import KNeighborsClassifier\n",
    "\n",
    "pipe_KNN = Pipeline(steps=[('rfi_fs', RFIFeatureSelector()), \n",
    "                           ('knn', KNeighborsClassifier())])\n",
    "\n",
    "params_pipe_KNN = {'rfi_fs__n_features_': [5, 7, Data.shape[1]],\n",
    "                   'knn__n_neighbors': [1, 3, 5, 10, 15, 20, 30],\n",
    "                   'knn__p': [1, 2]}\n",
    "\n",
    "gs_pipe_KNN = GridSearchCV(estimator=pipe_KNN, \n",
    "                           param_grid=params_pipe_KNN, \n",
    "                           cv=cv_method,\n",
    "                           refit=True,\n",
    "                           n_jobs=-2,\n",
    "                           scoring='roc_auc',\n",
    "                           verbose=1) "
   ]
  },
  {
   "cell_type": "code",
   "execution_count": 19,
   "metadata": {},
   "outputs": [
    {
     "name": "stdout",
     "output_type": "stream",
     "text": [
      "Fitting 10 folds for each of 42 candidates, totalling 420 fits\n"
     ]
    },
    {
     "name": "stderr",
     "output_type": "stream",
     "text": [
      "[Parallel(n_jobs=-2)]: Using backend LokyBackend with 3 concurrent workers.\n",
      "[Parallel(n_jobs=-2)]: Done  44 tasks      | elapsed:    7.6s\n",
      "[Parallel(n_jobs=-2)]: Done 194 tasks      | elapsed:   23.7s\n",
      "[Parallel(n_jobs=-2)]: Done 420 out of 420 | elapsed:   45.4s finished\n"
     ]
    },
    {
     "data": {
      "text/plain": [
       "GridSearchCV(cv=RepeatedStratifiedKFold(n_repeats=2, n_splits=5, random_state=999),\n",
       "             error_score=nan,\n",
       "             estimator=Pipeline(memory=None,\n",
       "                                steps=[('rfi_fs',\n",
       "                                        RFIFeatureSelector(n_features_=8)),\n",
       "                                       ('knn',\n",
       "                                        KNeighborsClassifier(algorithm='auto',\n",
       "                                                             leaf_size=30,\n",
       "                                                             metric='minkowski',\n",
       "                                                             metric_params=None,\n",
       "                                                             n_jobs=None,\n",
       "                                                             n_neighbors=5, p=2,\n",
       "                                                             weights='uniform'))],\n",
       "                                verbose=False),\n",
       "             iid='deprecated', n_jobs=-2,\n",
       "             param_grid={'knn__n_neighbors': [1, 3, 5, 10, 15, 20, 30],\n",
       "                         'knn__p': [1, 2], 'rfi_fs__n_features_': [5, 7, 8]},\n",
       "             pre_dispatch='2*n_jobs', refit=True, return_train_score=False,\n",
       "             scoring='roc_auc', verbose=1)"
      ]
     },
     "execution_count": 19,
     "metadata": {},
     "output_type": "execute_result"
    }
   ],
   "source": [
    "gs_pipe_KNN.fit(D_train, t_train)"
   ]
  },
  {
   "cell_type": "code",
   "execution_count": 20,
   "metadata": {},
   "outputs": [
    {
     "data": {
      "text/plain": [
       "{'knn__n_neighbors': 20, 'knn__p': 1, 'rfi_fs__n_features_': 5}"
      ]
     },
     "execution_count": 20,
     "metadata": {},
     "output_type": "execute_result"
    }
   ],
   "source": [
    "gs_pipe_KNN.best_params_"
   ]
  },
  {
   "cell_type": "code",
   "execution_count": 21,
   "metadata": {},
   "outputs": [
    {
     "data": {
      "text/plain": [
       "0.8457793131477341"
      ]
     },
     "execution_count": 21,
     "metadata": {},
     "output_type": "execute_result"
    }
   ],
   "source": [
    "gs_pipe_KNN.best_score_"
   ]
  },
  {
   "cell_type": "markdown",
   "metadata": {},
   "source": [
    "We observe that the best performance is with 5 features as selected by the Random Forest Importance with 20 nearest neighbors and with the Manhattan distance metric with an AUC score of 84.57%. "
   ]
  },
  {
   "cell_type": "markdown",
   "metadata": {},
   "source": [
    "We will also look at other combinations to see if the difference is significant or not."
   ]
  },
  {
   "cell_type": "code",
   "execution_count": 22,
   "metadata": {},
   "outputs": [],
   "source": [
    "def get_search_results(gs):\n",
    "\n",
    "    def model_result(scores, params):\n",
    "        scores = {'mean_score': np.mean(scores),\n",
    "             'std_score': np.std(scores),\n",
    "             'min_score': np.min(scores),\n",
    "             'max_score': np.max(scores)}\n",
    "        return pd.Series({**params,**scores})\n",
    "\n",
    "    models = []\n",
    "    scores = []\n",
    "\n",
    "    for i in range(gs.n_splits_):\n",
    "        key = f\"split{i}_test_score\"\n",
    "        r = gs.cv_results_[key]        \n",
    "        scores.append(r.reshape(-1,1))\n",
    "\n",
    "    all_scores = np.hstack(scores)\n",
    "    for p, s in zip(gs.cv_results_['params'], all_scores):\n",
    "        models.append((model_result(s, p)))\n",
    "\n",
    "    pipe_results = pd.concat(models, axis=1).T.sort_values(['mean_score'], ascending=False)\n",
    "\n",
    "    columns_first = ['mean_score', 'std_score', 'max_score', 'min_score']\n",
    "    columns = columns_first + [c for c in pipe_results.columns if c not in columns_first]\n",
    "\n",
    "    return pipe_results[columns]"
   ]
  },
  {
   "cell_type": "code",
   "execution_count": 23,
   "metadata": {},
   "outputs": [
    {
     "data": {
      "text/html": [
       "<div>\n",
       "<style scoped>\n",
       "    .dataframe tbody tr th:only-of-type {\n",
       "        vertical-align: middle;\n",
       "    }\n",
       "\n",
       "    .dataframe tbody tr th {\n",
       "        vertical-align: top;\n",
       "    }\n",
       "\n",
       "    .dataframe thead th {\n",
       "        text-align: right;\n",
       "    }\n",
       "</style>\n",
       "<table border=\"1\" class=\"dataframe\">\n",
       "  <thead>\n",
       "    <tr style=\"text-align: right;\">\n",
       "      <th></th>\n",
       "      <th>mean_score</th>\n",
       "      <th>std_score</th>\n",
       "      <th>max_score</th>\n",
       "      <th>min_score</th>\n",
       "      <th>knn__n_neighbors</th>\n",
       "      <th>knn__p</th>\n",
       "      <th>rfi_fs__n_features_</th>\n",
       "    </tr>\n",
       "  </thead>\n",
       "  <tbody>\n",
       "    <tr>\n",
       "      <th>30</th>\n",
       "      <td>0.845779</td>\n",
       "      <td>0.028853</td>\n",
       "      <td>0.891353</td>\n",
       "      <td>0.800000</td>\n",
       "      <td>20.0</td>\n",
       "      <td>1.0</td>\n",
       "      <td>5.0</td>\n",
       "    </tr>\n",
       "    <tr>\n",
       "      <th>36</th>\n",
       "      <td>0.844918</td>\n",
       "      <td>0.037101</td>\n",
       "      <td>0.894173</td>\n",
       "      <td>0.787259</td>\n",
       "      <td>30.0</td>\n",
       "      <td>1.0</td>\n",
       "      <td>5.0</td>\n",
       "    </tr>\n",
       "    <tr>\n",
       "      <th>39</th>\n",
       "      <td>0.843791</td>\n",
       "      <td>0.028298</td>\n",
       "      <td>0.885150</td>\n",
       "      <td>0.796332</td>\n",
       "      <td>30.0</td>\n",
       "      <td>2.0</td>\n",
       "      <td>5.0</td>\n",
       "    </tr>\n",
       "    <tr>\n",
       "      <th>24</th>\n",
       "      <td>0.836942</td>\n",
       "      <td>0.027285</td>\n",
       "      <td>0.894549</td>\n",
       "      <td>0.791892</td>\n",
       "      <td>15.0</td>\n",
       "      <td>1.0</td>\n",
       "      <td>5.0</td>\n",
       "    </tr>\n",
       "    <tr>\n",
       "      <th>33</th>\n",
       "      <td>0.834121</td>\n",
       "      <td>0.031418</td>\n",
       "      <td>0.888722</td>\n",
       "      <td>0.776255</td>\n",
       "      <td>20.0</td>\n",
       "      <td>2.0</td>\n",
       "      <td>5.0</td>\n",
       "    </tr>\n",
       "  </tbody>\n",
       "</table>\n",
       "</div>"
      ],
      "text/plain": [
       "    mean_score  std_score  max_score  min_score  knn__n_neighbors  knn__p  \\\n",
       "30    0.845779   0.028853   0.891353   0.800000              20.0     1.0   \n",
       "36    0.844918   0.037101   0.894173   0.787259              30.0     1.0   \n",
       "39    0.843791   0.028298   0.885150   0.796332              30.0     2.0   \n",
       "24    0.836942   0.027285   0.894549   0.791892              15.0     1.0   \n",
       "33    0.834121   0.031418   0.888722   0.776255              20.0     2.0   \n",
       "\n",
       "    rfi_fs__n_features_  \n",
       "30                  5.0  \n",
       "36                  5.0  \n",
       "39                  5.0  \n",
       "24                  5.0  \n",
       "33                  5.0  "
      ]
     },
     "execution_count": 23,
     "metadata": {},
     "output_type": "execute_result"
    }
   ],
   "source": [
    "results_KNN = get_search_results(gs_pipe_KNN)\n",
    "results_KNN.head()"
   ]
  },
  {
   "cell_type": "markdown",
   "metadata": {},
   "source": [
    "We observe that the hyperparameter combinations between the selected features is relatively small. As shown, the AUC score difference between the hyperparameter conditions are not significant. "
   ]
  },
  {
   "cell_type": "code",
   "execution_count": 24,
   "metadata": {},
   "outputs": [],
   "source": [
    "results_KNN_5_features = results_KNN[results_KNN['rfi_fs__n_features_'] == 5]"
   ]
  },
  {
   "cell_type": "code",
   "execution_count": 25,
   "metadata": {},
   "outputs": [],
   "source": [
    "d={1:\"Manhattan\",2:\"Euclidean\"}\n",
    "results_KNN_5_features['distance']=results_KNN_5_features.knn__p.apply(lambda x:d[x])"
   ]
  },
  {
   "cell_type": "code",
   "execution_count": 26,
   "metadata": {},
   "outputs": [
    {
     "data": {
      "image/png": "[encoded data removed]",
      "text/plain": [
       "<Figure size 432x288 with 1 Axes>"
      ]
     },
     "metadata": {
      "needs_background": "light"
     },
     "output_type": "display_data"
    }
   ],
   "source": [
    "sns.lineplot(x=\"knn__n_neighbors\", y=\"mean_score\", hue=\"distance\", style = \"distance\",\n",
    " markers = True, dashes=False, data=results_KNN_5_features)\n",
    "plt.title('Figure 2: KNN Performance Comparison with 5 Features', fontsize = 13\n",
    ")\n",
    "plt.xlabel('Number of Neighbors')\n",
    "plt.ylabel('AUC score')\n",
    "plt.show()"
   ]
  },
  {
   "cell_type": "markdown",
   "metadata": {},
   "source": [
    "Based on figure 2, it can be observed that the Manhattan distance performed better than the Euclidean distance when the number of neighbors is greater than 5. Moreover, the AUC score is seen to have very little change after the number of neighbors reaches 30."
   ]
  },
  {
   "cell_type": "markdown",
   "metadata": {},
   "source": [
    "### Decision Tree"
   ]
  },
  {
   "cell_type": "markdown",
   "metadata": {},
   "source": [
    "We utilise cross-validation to obtain the optimal Decision Tree parameters using 2 repeated 5-fold stratified cross validation on the training set. Moreover given the class imbalance in this dataset the roc_auc is also chosen as the performance metric. \n",
    "\n",
    "We will use the pipeline and gridsearch to help determine the optimal Decision Tree parameters. The decision tree parameters are as follows:\n",
    "- decision tree criterion \n",
    "- decision tree maximum depth"
   ]
  },
  {
   "cell_type": "code",
   "execution_count": 27,
   "metadata": {},
   "outputs": [],
   "source": [
    "from sklearn.tree import DecisionTreeClassifier"
   ]
  },
  {
   "cell_type": "code",
   "execution_count": 28,
   "metadata": {},
   "outputs": [],
   "source": [
    "pipe_DT = Pipeline([('rfi_fs', RFIFeatureSelector()),\n",
    "                    ('dt', DecisionTreeClassifier())])\n",
    "\n",
    "params_pipe_DT = {'rfi_fs__n_features_': [5, 7, Data.shape[1]],\n",
    "                  'dt__criterion': ['gini', 'entropy'],\n",
    "                  'dt__max_depth': [2, 4, 6,8,10]}\n",
    "\n",
    "gs_pipe_DT = GridSearchCV(estimator=pipe_DT, \n",
    "                          param_grid=params_pipe_DT, \n",
    "                          cv=cv_method,\n",
    "                          refit=True,\n",
    "                          n_jobs=-2,\n",
    "                          scoring='roc_auc',\n",
    "                          verbose=1) "
   ]
  },
  {
   "cell_type": "code",
   "execution_count": 29,
   "metadata": {},
   "outputs": [
    {
     "name": "stdout",
     "output_type": "stream",
     "text": [
      "Fitting 10 folds for each of 30 candidates, totalling 300 fits\n"
     ]
    },
    {
     "name": "stderr",
     "output_type": "stream",
     "text": [
      "[Parallel(n_jobs=-2)]: Using backend LokyBackend with 3 concurrent workers.\n",
      "[Parallel(n_jobs=-2)]: Done  44 tasks      | elapsed:    4.6s\n",
      "[Parallel(n_jobs=-2)]: Done 194 tasks      | elapsed:   18.8s\n",
      "[Parallel(n_jobs=-2)]: Done 300 out of 300 | elapsed:   28.8s finished\n"
     ]
    },
    {
     "data": {
      "text/plain": [
       "GridSearchCV(cv=RepeatedStratifiedKFold(n_repeats=2, n_splits=5, random_state=999),\n",
       "             error_score=nan,\n",
       "             estimator=Pipeline(memory=None,\n",
       "                                steps=[('rfi_fs',\n",
       "                                        RFIFeatureSelector(n_features_=8)),\n",
       "                                       ('dt',\n",
       "                                        DecisionTreeClassifier(ccp_alpha=0.0,\n",
       "                                                               class_weight=None,\n",
       "                                                               criterion='gini',\n",
       "                                                               max_depth=None,\n",
       "                                                               max_features=None,\n",
       "                                                               max_leaf_nodes=None,\n",
       "                                                               min_impurity_decrease=0.0,\n",
       "                                                               min_impurity_...\n",
       "                                                               min_samples_leaf=1,\n",
       "                                                               min_samples_split=2,\n",
       "                                                               min_weight_fraction_leaf=0.0,\n",
       "                                                               presort='deprecated',\n",
       "                                                               random_state=None,\n",
       "                                                               splitter='best'))],\n",
       "                                verbose=False),\n",
       "             iid='deprecated', n_jobs=-2,\n",
       "             param_grid={'dt__criterion': ['gini', 'entropy'],\n",
       "                         'dt__max_depth': [2, 4, 6, 8, 10],\n",
       "                         'rfi_fs__n_features_': [5, 7, 8]},\n",
       "             pre_dispatch='2*n_jobs', refit=True, return_train_score=False,\n",
       "             scoring='roc_auc', verbose=1)"
      ]
     },
     "execution_count": 29,
     "metadata": {},
     "output_type": "execute_result"
    }
   ],
   "source": [
    "gs_pipe_DT.fit(D_train, t_train)"
   ]
  },
  {
   "cell_type": "code",
   "execution_count": 30,
   "metadata": {},
   "outputs": [
    {
     "data": {
      "text/plain": [
       "{'dt__criterion': 'gini', 'dt__max_depth': 4, 'rfi_fs__n_features_': 7}"
      ]
     },
     "execution_count": 30,
     "metadata": {},
     "output_type": "execute_result"
    }
   ],
   "source": [
    "gs_pipe_DT.best_params_"
   ]
  },
  {
   "cell_type": "code",
   "execution_count": 31,
   "metadata": {},
   "outputs": [
    {
     "data": {
      "text/plain": [
       "0.788508941272099"
      ]
     },
     "execution_count": 31,
     "metadata": {},
     "output_type": "execute_result"
    }
   ],
   "source": [
    "gs_pipe_DT.best_score_"
   ]
  },
  {
   "cell_type": "markdown",
   "metadata": {},
   "source": [
    "As observe from the results, the best performance is with 7 features as selected by the Random Forest Importance (RFI) with gini as the criterion and max depth of 4 for an AUC score of 78.85%."
   ]
  },
  {
   "cell_type": "code",
   "execution_count": 32,
   "metadata": {},
   "outputs": [
    {
     "data": {
      "text/html": [
       "<div>\n",
       "<style scoped>\n",
       "    .dataframe tbody tr th:only-of-type {\n",
       "        vertical-align: middle;\n",
       "    }\n",
       "\n",
       "    .dataframe tbody tr th {\n",
       "        vertical-align: top;\n",
       "    }\n",
       "\n",
       "    .dataframe thead th {\n",
       "        text-align: right;\n",
       "    }\n",
       "</style>\n",
       "<table border=\"1\" class=\"dataframe\">\n",
       "  <thead>\n",
       "    <tr style=\"text-align: right;\">\n",
       "      <th></th>\n",
       "      <th>mean_score</th>\n",
       "      <th>std_score</th>\n",
       "      <th>max_score</th>\n",
       "      <th>min_score</th>\n",
       "      <th>dt__criterion</th>\n",
       "      <th>dt__max_depth</th>\n",
       "      <th>rfi_fs__n_features_</th>\n",
       "    </tr>\n",
       "  </thead>\n",
       "  <tbody>\n",
       "    <tr>\n",
       "      <th>4</th>\n",
       "      <td>0.788509</td>\n",
       "      <td>0.0539842</td>\n",
       "      <td>0.898872</td>\n",
       "      <td>0.709073</td>\n",
       "      <td>gini</td>\n",
       "      <td>4</td>\n",
       "      <td>7</td>\n",
       "    </tr>\n",
       "    <tr>\n",
       "      <th>19</th>\n",
       "      <td>0.787436</td>\n",
       "      <td>0.0424255</td>\n",
       "      <td>0.852632</td>\n",
       "      <td>0.684749</td>\n",
       "      <td>entropy</td>\n",
       "      <td>4</td>\n",
       "      <td>7</td>\n",
       "    </tr>\n",
       "    <tr>\n",
       "      <th>18</th>\n",
       "      <td>0.786064</td>\n",
       "      <td>0.0437543</td>\n",
       "      <td>0.853008</td>\n",
       "      <td>0.713514</td>\n",
       "      <td>entropy</td>\n",
       "      <td>4</td>\n",
       "      <td>5</td>\n",
       "    </tr>\n",
       "    <tr>\n",
       "      <th>20</th>\n",
       "      <td>0.785618</td>\n",
       "      <td>0.0382604</td>\n",
       "      <td>0.852632</td>\n",
       "      <td>0.715251</td>\n",
       "      <td>entropy</td>\n",
       "      <td>4</td>\n",
       "      <td>8</td>\n",
       "    </tr>\n",
       "    <tr>\n",
       "      <th>3</th>\n",
       "      <td>0.780579</td>\n",
       "      <td>0.0678618</td>\n",
       "      <td>0.898872</td>\n",
       "      <td>0.667181</td>\n",
       "      <td>gini</td>\n",
       "      <td>4</td>\n",
       "      <td>5</td>\n",
       "    </tr>\n",
       "  </tbody>\n",
       "</table>\n",
       "</div>"
      ],
      "text/plain": [
       "   mean_score  std_score max_score min_score dt__criterion dt__max_depth  \\\n",
       "4    0.788509  0.0539842  0.898872  0.709073          gini             4   \n",
       "19   0.787436  0.0424255  0.852632  0.684749       entropy             4   \n",
       "18   0.786064  0.0437543  0.853008  0.713514       entropy             4   \n",
       "20   0.785618  0.0382604  0.852632  0.715251       entropy             4   \n",
       "3    0.780579  0.0678618  0.898872  0.667181          gini             4   \n",
       "\n",
       "   rfi_fs__n_features_  \n",
       "4                    7  \n",
       "19                   7  \n",
       "18                   5  \n",
       "20                   8  \n",
       "3                    5  "
      ]
     },
     "execution_count": 32,
     "metadata": {},
     "output_type": "execute_result"
    }
   ],
   "source": [
    "results_DT = get_search_results(gs_pipe_DT)\n",
    "results_DT.head()"
   ]
  },
  {
   "cell_type": "markdown",
   "metadata": {},
   "source": [
    "We observe that the hyperparameter combinations between the selected features is relatively small. As shown, the AUC score difference between the hyperparameter conditions are not significant."
   ]
  },
  {
   "cell_type": "code",
   "execution_count": 33,
   "metadata": {},
   "outputs": [],
   "source": [
    "results_DT_4_depth = results_DT[results_DT['rfi_fs__n_features_'] == 7]\n",
    "results_DT_4_depth.dt__max_depth = results_DT_4_depth.dt__max_depth.astype(float)\n",
    "results_DT_4_depth.mean_score = results_DT_4_depth.mean_score.astype(float)"
   ]
  },
  {
   "cell_type": "code",
   "execution_count": 34,
   "metadata": {},
   "outputs": [
    {
     "data": {
      "image/png": "[encoded data removed]",
      "text/plain": [
       "<Figure size 432x288 with 1 Axes>"
      ]
     },
     "metadata": {
      "needs_background": "light"
     },
     "output_type": "display_data"
    }
   ],
   "source": [
    "sns.lineplot(x=\"dt__max_depth\", y=\"mean_score\", hue=\"dt__criterion\", style = \"dt__criterion\",\n",
    " markers = True, dashes=False, data= results_DT_4_depth)\n",
    "plt.title('Figure 3: DT Performance Comparison with 7 Features', fontsize = 13)\n",
    "plt.xlabel('Max depth')\n",
    "plt.ylabel('AUC score')\n",
    "plt.show()"
   ]
  },
  {
   "cell_type": "markdown",
   "metadata": {},
   "source": [
    "Based on figure 3, it can be observed that the gini criterion performs better than the entropy criterion when max depth is between 2 and 4. However, the AUC starts to drop after max depth reaches 4. Hence the model obtain is optimal when max depth equals 4. "
   ]
  },
  {
   "cell_type": "markdown",
   "metadata": {},
   "source": [
    "### Random Forest"
   ]
  },
  {
   "cell_type": "markdown",
   "metadata": {},
   "source": [
    "We utilise cross-validation to obtain the optimal Random Forest parameters using 2 repeated 5-fold stratified cross validation on the training set. As such, the roc_auc performance metric is chosen because of the class imbalance as utilised in the previous models. \n",
    "\n",
    "Using the pipeline and grid search to determine the optimal Random Forest parameters, the Random Forest hyperparameters we aim to tune are as follows:\n",
    "- Number of estimators\n",
    "- Random Forest criterion\n",
    "- Random Forest maximum depth"
   ]
  },
  {
   "cell_type": "code",
   "execution_count": 35,
   "metadata": {},
   "outputs": [],
   "source": [
    "from sklearn.ensemble import RandomForestClassifier\n",
    "df_classifier = RandomForestClassifier()\n",
    "pipe_RF = Pipeline(steps=[('rfi_fs', RFIFeatureSelector()),\n",
    "                          ('rf', df_classifier)])\n",
    "\n",
    "\n",
    "params_pipe_RF = {'rfi_fs__n_features_': [5, 7, Data.shape[1]],\n",
    "                  'rf__n_estimators': [20, 40, 60, 80, 100],\n",
    "                  'rf__criterion': ['gini', 'entropy'],\n",
    "                  'rf__max_depth': [3, 4, 5]}\n",
    "\n",
    "\n",
    "gs_pipe_RF = GridSearchCV(estimator=pipe_RF,\n",
    "                          param_grid=params_pipe_RF,\n",
    "                          cv=cv_method,\n",
    "                          scoring='roc_auc',\n",
    "                          n_jobs = -2,\n",
    "                          refit=True,\n",
    "                          verbose=1)\n",
    "\n"
   ]
  },
  {
   "cell_type": "code",
   "execution_count": 36,
   "metadata": {},
   "outputs": [
    {
     "name": "stdout",
     "output_type": "stream",
     "text": [
      "Fitting 10 folds for each of 90 candidates, totalling 900 fits\n"
     ]
    },
    {
     "name": "stderr",
     "output_type": "stream",
     "text": [
      "[Parallel(n_jobs=-2)]: Using backend LokyBackend with 3 concurrent workers.\n",
      "[Parallel(n_jobs=-2)]: Done  44 tasks      | elapsed:    5.4s\n",
      "[Parallel(n_jobs=-2)]: Done 194 tasks      | elapsed:   30.5s\n",
      "[Parallel(n_jobs=-2)]: Done 444 tasks      | elapsed:  1.1min\n",
      "[Parallel(n_jobs=-2)]: Done 794 tasks      | elapsed:  2.0min\n",
      "[Parallel(n_jobs=-2)]: Done 900 out of 900 | elapsed:  2.3min finished\n"
     ]
    },
    {
     "data": {
      "text/plain": [
       "GridSearchCV(cv=RepeatedStratifiedKFold(n_repeats=2, n_splits=5, random_state=999),\n",
       "             error_score=nan,\n",
       "             estimator=Pipeline(memory=None,\n",
       "                                steps=[('rfi_fs',\n",
       "                                        RFIFeatureSelector(n_features_=8)),\n",
       "                                       ('rf',\n",
       "                                        RandomForestClassifier(bootstrap=True,\n",
       "                                                               ccp_alpha=0.0,\n",
       "                                                               class_weight=None,\n",
       "                                                               criterion='gini',\n",
       "                                                               max_depth=None,\n",
       "                                                               max_features='auto',\n",
       "                                                               max_leaf_nodes=None,\n",
       "                                                               max_samples=None,\n",
       "                                                               min_i...\n",
       "                                                               n_estimators=100,\n",
       "                                                               n_jobs=None,\n",
       "                                                               oob_score=False,\n",
       "                                                               random_state=None,\n",
       "                                                               verbose=0,\n",
       "                                                               warm_start=False))],\n",
       "                                verbose=False),\n",
       "             iid='deprecated', n_jobs=-2,\n",
       "             param_grid={'rf__criterion': ['gini', 'entropy'],\n",
       "                         'rf__max_depth': [3, 4, 5],\n",
       "                         'rf__n_estimators': [20, 40, 60, 80, 100],\n",
       "                         'rfi_fs__n_features_': [5, 7, 8]},\n",
       "             pre_dispatch='2*n_jobs', refit=True, return_train_score=False,\n",
       "             scoring='roc_auc', verbose=1)"
      ]
     },
     "execution_count": 36,
     "metadata": {},
     "output_type": "execute_result"
    }
   ],
   "source": [
    "gs_pipe_RF.fit(D_train, t_train)"
   ]
  },
  {
   "cell_type": "code",
   "execution_count": 37,
   "metadata": {},
   "outputs": [
    {
     "data": {
      "text/plain": [
       "{'rf__criterion': 'entropy',\n",
       " 'rf__max_depth': 4,\n",
       " 'rf__n_estimators': 60,\n",
       " 'rfi_fs__n_features_': 5}"
      ]
     },
     "execution_count": 37,
     "metadata": {},
     "output_type": "execute_result"
    }
   ],
   "source": [
    "gs_pipe_RF.best_params_"
   ]
  },
  {
   "cell_type": "code",
   "execution_count": 38,
   "metadata": {},
   "outputs": [
    {
     "data": {
      "text/plain": [
       "0.8569945133103027"
      ]
     },
     "execution_count": 38,
     "metadata": {},
     "output_type": "execute_result"
    }
   ],
   "source": [
    "gs_pipe_RF.best_score_"
   ]
  },
  {
   "cell_type": "markdown",
   "metadata": {},
   "source": [
    "As observe from the results, we get the best performance with 5 features selected by the Random Forest Importance (RFI) with entropy as the criterion and with max depth of 4 and 60 trees in the forest for an accuracy score of 85.69%."
   ]
  },
  {
   "cell_type": "code",
   "execution_count": 39,
   "metadata": {},
   "outputs": [
    {
     "data": {
      "text/html": [
       "<div>\n",
       "<style scoped>\n",
       "    .dataframe tbody tr th:only-of-type {\n",
       "        vertical-align: middle;\n",
       "    }\n",
       "\n",
       "    .dataframe tbody tr th {\n",
       "        vertical-align: top;\n",
       "    }\n",
       "\n",
       "    .dataframe thead th {\n",
       "        text-align: right;\n",
       "    }\n",
       "</style>\n",
       "<table border=\"1\" class=\"dataframe\">\n",
       "  <thead>\n",
       "    <tr style=\"text-align: right;\">\n",
       "      <th></th>\n",
       "      <th>mean_score</th>\n",
       "      <th>std_score</th>\n",
       "      <th>max_score</th>\n",
       "      <th>min_score</th>\n",
       "      <th>rf__criterion</th>\n",
       "      <th>rf__max_depth</th>\n",
       "      <th>rf__n_estimators</th>\n",
       "      <th>rfi_fs__n_features_</th>\n",
       "    </tr>\n",
       "  </thead>\n",
       "  <tbody>\n",
       "    <tr>\n",
       "      <th>66</th>\n",
       "      <td>0.856995</td>\n",
       "      <td>0.022632</td>\n",
       "      <td>0.892857</td>\n",
       "      <td>0.818147</td>\n",
       "      <td>entropy</td>\n",
       "      <td>4</td>\n",
       "      <td>60</td>\n",
       "      <td>5</td>\n",
       "    </tr>\n",
       "    <tr>\n",
       "      <th>75</th>\n",
       "      <td>0.855598</td>\n",
       "      <td>0.0210542</td>\n",
       "      <td>0.900752</td>\n",
       "      <td>0.832707</td>\n",
       "      <td>entropy</td>\n",
       "      <td>5</td>\n",
       "      <td>20</td>\n",
       "      <td>5</td>\n",
       "    </tr>\n",
       "    <tr>\n",
       "      <th>63</th>\n",
       "      <td>0.855543</td>\n",
       "      <td>0.0191816</td>\n",
       "      <td>0.885714</td>\n",
       "      <td>0.821236</td>\n",
       "      <td>entropy</td>\n",
       "      <td>4</td>\n",
       "      <td>40</td>\n",
       "      <td>5</td>\n",
       "    </tr>\n",
       "    <tr>\n",
       "      <th>51</th>\n",
       "      <td>0.8555</td>\n",
       "      <td>0.01871</td>\n",
       "      <td>0.883083</td>\n",
       "      <td>0.827413</td>\n",
       "      <td>entropy</td>\n",
       "      <td>3</td>\n",
       "      <td>60</td>\n",
       "      <td>5</td>\n",
       "    </tr>\n",
       "    <tr>\n",
       "      <th>87</th>\n",
       "      <td>0.855324</td>\n",
       "      <td>0.0205488</td>\n",
       "      <td>0.897744</td>\n",
       "      <td>0.826255</td>\n",
       "      <td>entropy</td>\n",
       "      <td>5</td>\n",
       "      <td>100</td>\n",
       "      <td>5</td>\n",
       "    </tr>\n",
       "  </tbody>\n",
       "</table>\n",
       "</div>"
      ],
      "text/plain": [
       "   mean_score  std_score max_score min_score rf__criterion rf__max_depth  \\\n",
       "66   0.856995   0.022632  0.892857  0.818147       entropy             4   \n",
       "75   0.855598  0.0210542  0.900752  0.832707       entropy             5   \n",
       "63   0.855543  0.0191816  0.885714  0.821236       entropy             4   \n",
       "51     0.8555    0.01871  0.883083  0.827413       entropy             3   \n",
       "87   0.855324  0.0205488  0.897744  0.826255       entropy             5   \n",
       "\n",
       "   rf__n_estimators rfi_fs__n_features_  \n",
       "66               60                   5  \n",
       "75               20                   5  \n",
       "63               40                   5  \n",
       "51               60                   5  \n",
       "87              100                   5  "
      ]
     },
     "execution_count": 39,
     "metadata": {},
     "output_type": "execute_result"
    }
   ],
   "source": [
    "results_RF = get_search_results(gs_pipe_RF)\n",
    "results_RF.head()"
   ]
  },
  {
   "cell_type": "markdown",
   "metadata": {},
   "source": [
    "We observe that the hyperparameter combinations between the selected features is relatively small. As shown, the AUC score difference between the hyperparameter conditions are not significant."
   ]
  },
  {
   "cell_type": "code",
   "execution_count": 40,
   "metadata": {},
   "outputs": [],
   "source": [
    "results_RF_5_features = results_RF[results_RF['rfi_fs__n_features_'] == 5.0]\n",
    "results_RF_5_features.rf__max_depth = results_RF_5_features.rf__max_depth.astype(float)\n",
    "results_RF_5_features.mean_score = results_RF_5_features.mean_score.astype(float)"
   ]
  },
  {
   "cell_type": "code",
   "execution_count": 41,
   "metadata": {},
   "outputs": [
    {
     "data": {
      "image/png": "[encoded data removed]",
      "text/plain": [
       "<Figure size 432x288 with 1 Axes>"
      ]
     },
     "metadata": {
      "needs_background": "light"
     },
     "output_type": "display_data"
    }
   ],
   "source": [
    "sns.lineplot(x=\"rf__max_depth\", y=\"mean_score\", hue=\"rf__criterion\", style = \"rf__criterion\",\n",
    "             markers = True, dashes=False, data=results_RF_5_features)\n",
    "plt.title('Figure 4: RF Performance Comparison with 5 Features', fontsize = 13)\n",
    "plt.xlabel('Max Depth')\n",
    "plt.ylabel('AUC score')\n",
    "plt.show()"
   ]
  },
  {
   "cell_type": "markdown",
   "metadata": {},
   "source": [
    "Based on figure 4, the entropy criterion performs consistently better than the gini index at max depth."
   ]
  },
  {
   "cell_type": "markdown",
   "metadata": {},
   "source": [
    "# Model Comparison"
   ]
  },
  {
   "cell_type": "markdown",
   "metadata": {},
   "source": [
    "We condut a paired t-test to help determine if any difference in performance regarding the AUC score between any two tuned classifiers is statistically significant. A 10-fold stratified cross-validation with no repetition on each classifier which are tuned is first performed. Finally a paired t-test for the AUC score between the following classifier combinations is conducted:\n",
    "- KNN vs DT\n",
    "- KNN vs RF\n",
    "- DT vs RF"
   ]
  },
  {
   "cell_type": "code",
   "execution_count": 42,
   "metadata": {},
   "outputs": [],
   "source": [
    "from sklearn.model_selection import cross_val_score, StratifiedKFold\n",
    "cv_method_ttest = StratifiedKFold(n_splits=10, random_state=222)"
   ]
  },
  {
   "cell_type": "markdown",
   "metadata": {},
   "source": [
    "### Fit KNN"
   ]
  },
  {
   "cell_type": "code",
   "execution_count": 43,
   "metadata": {},
   "outputs": [],
   "source": [
    "cv_results_KNN = cross_val_score(estimator=gs_pipe_KNN.best_estimator_,\n",
    "                                 X=D_test,\n",
    "                                 y=t_test,\n",
    "                                 cv=cv_method_ttest,\n",
    "                                 n_jobs=-2,\n",
    "                                 scoring='roc_auc')"
   ]
  },
  {
   "cell_type": "code",
   "execution_count": 44,
   "metadata": {},
   "outputs": [
    {
     "data": {
      "text/plain": [
       "0.7890277777777778"
      ]
     },
     "execution_count": 44,
     "metadata": {},
     "output_type": "execute_result"
    }
   ],
   "source": [
    "cv_results_KNN.mean()"
   ]
  },
  {
   "cell_type": "markdown",
   "metadata": {},
   "source": [
    "### Fit DT"
   ]
  },
  {
   "cell_type": "code",
   "execution_count": 45,
   "metadata": {},
   "outputs": [],
   "source": [
    "cv_results_DT = cross_val_score(estimator=gs_pipe_DT.best_estimator_,\n",
    "                                 X=D_test,\n",
    "                                 y=t_test,\n",
    "                                 cv=cv_method_ttest,\n",
    "                                 n_jobs=-2,\n",
    "                                 scoring='roc_auc')"
   ]
  },
  {
   "cell_type": "code",
   "execution_count": 46,
   "metadata": {},
   "outputs": [
    {
     "data": {
      "text/plain": [
       "0.6912499999999999"
      ]
     },
     "execution_count": 46,
     "metadata": {},
     "output_type": "execute_result"
    }
   ],
   "source": [
    "cv_results_DT.mean()"
   ]
  },
  {
   "cell_type": "markdown",
   "metadata": {},
   "source": [
    "### Fit RF"
   ]
  },
  {
   "cell_type": "code",
   "execution_count": 47,
   "metadata": {},
   "outputs": [],
   "source": [
    "cv_results_RF = cross_val_score(estimator=gs_pipe_RF.best_estimator_,\n",
    "                                X=D_test,\n",
    "                                y=t_test,\n",
    "                                cv=cv_method_ttest,\n",
    "                                n_jobs=-2,\n",
    "                                scoring='roc_auc')"
   ]
  },
  {
   "cell_type": "code",
   "execution_count": 48,
   "metadata": {},
   "outputs": [
    {
     "data": {
      "text/plain": [
       "0.7912037037037037"
      ]
     },
     "execution_count": 48,
     "metadata": {},
     "output_type": "execute_result"
    }
   ],
   "source": [
    "cv_results_RF.mean()"
   ]
  },
  {
   "cell_type": "code",
   "execution_count": 49,
   "metadata": {},
   "outputs": [
    {
     "name": "stdout",
     "output_type": "stream",
     "text": [
      "KNN vs DT: Ttest_relResult(statistic=4.116841740960746, pvalue=0.0026102145752021767)\n",
      "KNN vs RF: Ttest_relResult(statistic=-0.1497172174733714, pvalue=0.8842891386306118)\n",
      "DT vs RF: Ttest_relResult(statistic=-3.9928047063495757, pvalue=0.003144388064740096)\n"
     ]
    }
   ],
   "source": [
    "from scipy import stats\n",
    "print('KNN vs DT:', stats.ttest_rel(cv_results_KNN, cv_results_DT))\n",
    "print('KNN vs RF:', stats.ttest_rel(cv_results_KNN, cv_results_RF))\n",
    "print('DT vs RF:', stats.ttest_rel(cv_results_DT, cv_results_RF))"
   ]
  },
  {
   "cell_type": "markdown",
   "metadata": {},
   "source": [
    "Based on the result, we can conclude that the Random Forest has the highest AUC score and is statistically the best model amongst the 3 classifiers in terms of AUC when compared on the test data, considering its p-value is less than 0.05. \n",
    "As we have considered AUC, we will also look at other metrics to evaluate the model on the test set, which include:\n",
    "- Accuracy \n",
    "- Precision\n",
    "- Recall\n",
    "- F1 Score\n",
    "- Confusion matrix"
   ]
  },
  {
   "cell_type": "code",
   "execution_count": 50,
   "metadata": {},
   "outputs": [],
   "source": [
    "pred_KNN = gs_pipe_KNN.predict(D_test)"
   ]
  },
  {
   "cell_type": "code",
   "execution_count": 51,
   "metadata": {},
   "outputs": [],
   "source": [
    "pred_DT = gs_pipe_DT.predict(D_test)"
   ]
  },
  {
   "cell_type": "code",
   "execution_count": 52,
   "metadata": {},
   "outputs": [],
   "source": [
    "pred_RF = gs_pipe_RF.predict(D_test)"
   ]
  },
  {
   "cell_type": "code",
   "execution_count": 53,
   "metadata": {},
   "outputs": [
    {
     "name": "stdout",
     "output_type": "stream",
     "text": [
      "\n",
      "Classification report for K-Nearest Neighbor\n",
      "              precision    recall  f1-score   support\n",
      "\n",
      "           0       0.75      0.86      0.80       150\n",
      "           1       0.64      0.47      0.54        81\n",
      "\n",
      "    accuracy                           0.72       231\n",
      "   macro avg       0.70      0.66      0.67       231\n",
      "weighted avg       0.71      0.72      0.71       231\n",
      "\n",
      "\n",
      "Classification report for Decision Tree\n",
      "              precision    recall  f1-score   support\n",
      "\n",
      "           0       0.73      0.86      0.79       150\n",
      "           1       0.61      0.41      0.49        81\n",
      "\n",
      "    accuracy                           0.70       231\n",
      "   macro avg       0.67      0.63      0.64       231\n",
      "weighted avg       0.69      0.70      0.68       231\n",
      "\n",
      "\n",
      "Classification report for Random Forest\n",
      "              precision    recall  f1-score   support\n",
      "\n",
      "           0       0.76      0.84      0.80       150\n",
      "           1       0.63      0.51      0.56        81\n",
      "\n",
      "    accuracy                           0.72       231\n",
      "   macro avg       0.69      0.67      0.68       231\n",
      "weighted avg       0.71      0.72      0.71       231\n",
      "\n"
     ]
    }
   ],
   "source": [
    "from sklearn import metrics\n",
    "print(\"\\nClassification report for K-Nearest Neighbor\")\n",
    "print(metrics.classification_report(t_test, pred_KNN))\n",
    "print(\"\\nClassification report for Decision Tree\")\n",
    "print(metrics.classification_report(t_test, pred_DT))\n",
    "print(\"\\nClassification report for Random Forest\")\n",
    "print(metrics.classification_report(t_test, pred_RF))"
   ]
  },
  {
   "cell_type": "code",
   "execution_count": 54,
   "metadata": {},
   "outputs": [
    {
     "name": "stdout",
     "output_type": "stream",
     "text": [
      "\n",
      "Confusion matrix for K-Nearest Neighbor\n",
      "[[129  21]\n",
      " [ 43  38]]\n",
      "\n",
      "Confusion matrix for Decision Tree\n",
      "[[129  21]\n",
      " [ 48  33]]\n",
      "\n",
      "Confusion matrix for Random Forest\n",
      "[[126  24]\n",
      " [ 40  41]]\n"
     ]
    }
   ],
   "source": [
    "print(\"\\nConfusion matrix for K-Nearest Neighbor\")\n",
    "print(metrics.confusion_matrix(t_test, pred_KNN))\n",
    "print(\"\\nConfusion matrix for Decision Tree\")\n",
    "print(metrics.confusion_matrix(t_test, pred_DT))\n",
    "print(\"\\nConfusion matrix for Random Forest\")\n",
    "print(metrics.confusion_matrix(t_test, pred_RF))"
   ]
  },
  {
   "cell_type": "markdown",
   "metadata": {},
   "source": [
    "Overall the confusion matrices results are reflected in the classfication reports. Given the Random Forest was the best performing model in terms of AUC, we also can conclude that information-based learning algorithm is the best for this particular problem. Moreover, RF is the best model for this classification problem as it has it has a statistically significant higher AUC score. "
   ]
  },
  {
   "cell_type": "markdown",
   "metadata": {},
   "source": [
    "# Critque & Limitations"
   ]
  },
  {
   "cell_type": "markdown",
   "metadata": {},
   "source": [
    "The modelling stage in this project has few limitations however there are also aspect of the analysis that could be improved. A weakness in the analysis includes not going in depth as to why there may be a class imblance such that there are more people without diabetes than with diabetes. As such a greater depth of analysis on the features could have been conducted to understand the reason behind this trend. Moreover, another weakness in the approach includes having little domain knowledge in the medical field and particularly regarding diabetes. As such, with greater knowledge in the field and particularly understanding the nature of each descriptive features this could have benefited during the stages of feature selection and feature ranking. Elsewhere, given the size of the dataset which contains 768 observations which is on the small to medium size, this could have also influence as to how accurate the results are in comparison to a dataset that is larger.\n",
    "\n",
    "In contrast a strength in this approach was experimenting with different classifiers and understanding that the information-based learning algorithm of the Random Forest was a good classifier for this particular classification problem. Moreover, in this analysis approach, through using the paired-t test, we were also able to conclude that the Random Forest was statistically the best model amongst the 3 different classifiers, considering it had a p-value of less than 0.05. Thus the strength of this approach is that were able to compare the classifiers with various techniques. "
   ]
  },
  {
   "cell_type": "markdown",
   "metadata": {},
   "source": [
    "# Summary & Conclusions "
   ]
  },
  {
   "cell_type": "markdown",
   "metadata": {},
   "source": [
    "### Project Summary"
   ]
  },
  {
   "cell_type": "markdown",
   "metadata": {},
   "source": [
    "In phase 1 of the project, we performed data preprocessing and data exploration on the diabetes dataset. Data preprocessing helped ensure that the results obtained from further analysis of the data were accurate and free from bias. As such the activities in this project include performing information summary check to help determine information on the number of instances in each column, if columns were non-null as well as the dtypes of instances in each column. We also examined the summary statistics of each variable and could observe that no values in each column appeared to be unsual and generally contained appropiate values in their respective columns. \n",
    "\n",
    "Missing values were also checked, in which no missing values existed. Elsewhere, unusual values were also checked, in particular the age column where a check was made to see if age values were between values 0 and 120, in which they were. This is particularly necessary as a negative age or an age value that is extremely high would be unusual. After that, a series of univariate boxplot for each of the numerical features were plotted to observe the distribution of each numerical variable and determine if any outliers existed. As observed, outliers existed in the distribution of all the variables, however in the context of this particular dataset and the information that we aim to extract from it, we decided not to remove the outliers as the values would assist in drawing any significant correlation that may exist between the variables. Hence, if we had removed the outliers, important correlation information regarding the different variables may have been reduced or less signifcantly pointed out during the exploratory or modelling phase. Lastly, in the data preprocessing stage, we also discretize the pregancies and age variable to reduce the number of different values in these columns. Instead, we group the values into groups, thus making it simpler to explore the data in the exploratory stage as well as to potentially reduce any noise when building the predictive models.\n",
    "\n",
    "After cleaning the dataset, we explored the data set through plotting several univariate, bivariate and multivariate plots to gain a better understanding of the variables. As such through exploration, we were able to understand for instance about the class imbalance in the outcome variable such that there are more non diabetic patients in comparison to patients with diabetes. Moreover, that patients in the age group 20-29 was the most common amongst the patients. Overall, through data exploration we are able to understand any trends and correlations before building the predictive models.\n",
    "\n",
    "Next, in phase 2 of the project as the data was mostly cleaned as observed in phase 1, the required data preparation step for the diabetes dataset before performing any predictive modelling includes scaling the descriptive features using the Min-Max scaler. We then split the dataset into training and test sets with a 70:30 ratio. Moreover we do not sample the dataset considering the total number of observations of 768 observations which would not significantly affect the computation and run time. \n",
    "\n",
    "In the predictive modelling stage, we considered the KNN, Decision Tree and Random Forest classifier, from which were used to help predict patients with diabetes. As such before fitting the classifiers on the test data, we perform feature selection and fine-tune the hyperparameters for each of the 3 classifiers. Moreover using grid search to help obtain the optimal hyperparameters for each model, the search also examine sensitivity of each model with respect to its hyperparameter. \n",
    "\n",
    "Afterthat, using the best tuned classifiers and fitting them on the test data using 10-fold cross validation, the paired t-test was used to help identify the statistically best performing algorithm. Moreover, comparing the classifiers with respect to their recall scores and confusion matrices on the test data. \n",
    "\n",
    "Finally, we outline strength and weaknesses in our study and provided a summary of the overall study including the data preparation and visualisation phase done previously on the diabetes dataset and provided the conclusion as to how this study helped achieve the goals and objectives of the overall project. \n",
    "\n"
   ]
  },
  {
   "cell_type": "markdown",
   "metadata": {},
   "source": [
    "### Summary of Findings"
   ]
  },
  {
   "cell_type": "markdown",
   "metadata": {},
   "source": [
    "Overall, we utilised a 2-repeated 5-fold stratified cross-validation on the training set to help obtain the optimal parameters in each of the three classifiers, with roc_auc as the performance metric. As such, in the KNN model we observe that the best performance is with 5 features as selected by the RFI with 20 nearest neighbors and with the Manhattan distance metric with an AUC score of 84.57%. In the decision tree the best performance model is with 7 features as selected by the Random Forest Importance (RFI) with gini as the criterion and max depth of 4 for an AUC score of 78.85%. Moreover, in the random forest, the best performance with 5 features selected by the Random Forest Importance (RFI) with entropy as the criterion and with max depth of 4 and 60 trees in the forest for an accuracy score of 85.69%. \n",
    "\n",
    "Ultimately, based on the result when testing the models on the test data, we can conclude that the Random Forest is statistically the best model amongst the 3 classifiers in terms of AUC when compared on the test data, considering its p-value is less than 0.05. Given the Random Forest was the best performing model in terms of AUC, we also can conclude that information-based learning algorithm is the best for this particular problem. Moreover, RF is the best model for this classification problem in terms of predicting if a patient will have diabetes or not as it has it has a statistically significant higher AUC score.\n"
   ]
  },
  {
   "cell_type": "markdown",
   "metadata": {},
   "source": [
    "### Conclusions"
   ]
  },
  {
   "cell_type": "markdown",
   "metadata": {},
   "source": [
    "As the goal of the project was to model diabetes patient prediction, the applications of supervised machine learning was utilised. Overall as several supervised learning classifiers was utilized including KNN, Decsion tree and Random Forest, the Random Forest model with 5 features selected by the Random Forest Importance (RFI) obtained the highest cross-validated AUC score on the training data. Ultimately, when the Random Forest was evaluated on the test data using the cross-validated approach, the model performed better in comparison to the other classifiers with respect to AUC. Thus, the Random Forest performs best for our problem of predicting patients with diabetes, which has a statistically significantly higher AUC score. Ultimately, all the objectives have been achived to help achive our goals in this project, where from phase 1 we cleaned the diabetes dataset and obtain a better understanding of the data through graphical visualisation to phase 2 where we built several supervised classifiers in helping us model diabetes patient prediction and understand which of these classifiers was best for our particular problem which we understood was the Random Forest classifier. "
   ]
  },
  {
   "cell_type": "markdown",
   "metadata": {},
   "source": [
    "### References"
   ]
  },
  {
   "cell_type": "markdown",
   "metadata": {},
   "source": [
    "Aksakalli V.*Case Study:Predicting Income Status*,Retrieved October 1,2021, from https://www.featureranking.com/tutorials/machine-learning-tutorials/case-study-predicting-income-status/"
   ]
  },
  {
   "cell_type": "code",
   "execution_count": null,
   "metadata": {},
   "outputs": [],
   "source": []
  }
 ],
 "metadata": {
  "kernelspec": {
   "display_name": "Python 3",
   "language": "python",
   "name": "python3"
  },
  "language_info": {
   "codemirror_mode": {
    "name": "ipython",
    "version": 3
   },
   "file_extension": ".py",
   "mimetype": "text/x-python",
   "name": "python",
   "nbconvert_exporter": "python",
   "pygments_lexer": "ipython3",
   "version": "3.7.6"
  },
  "toc": {
   "base_numbering": 1,
   "nav_menu": {},
   "number_sections": true,
   "sideBar": true,
   "skip_h1_title": false,
   "title_cell": "Table of Contents",
   "title_sidebar": "Contents",
   "toc_cell": false,
   "toc_position": {},
   "toc_section_display": true,
   "toc_window_display": false
  }
 },
 "nbformat": 4,
 "nbformat_minor": 4
}
